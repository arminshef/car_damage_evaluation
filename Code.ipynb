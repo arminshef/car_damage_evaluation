{
 "cells": [
  {
   "cell_type": "code",
   "execution_count": 40,
   "id": "c134aa73",
   "metadata": {},
   "outputs": [],
   "source": [
    "import torch\n",
    "import torchvision\n",
    "import os\n",
    "import numpy as np"
   ]
  },
  {
   "cell_type": "code",
   "execution_count": 41,
   "id": "06a3f6be",
   "metadata": {},
   "outputs": [
    {
     "name": "stdout",
     "output_type": "stream",
     "text": [
      "Model is training on Cuda\n"
     ]
    }
   ],
   "source": [
    "train_on_gpu = torch.cuda.is_available()\n",
    "if train_on_gpu:\n",
    "    print('Model is training on Cuda')\n",
    "else:\n",
    "    print('Model is training on CPU')"
   ]
  },
  {
   "cell_type": "code",
   "execution_count": 152,
   "id": "10e8a6b1",
   "metadata": {},
   "outputs": [],
   "source": [
    "data_dir = '../car-damage-detective/car-damage-dataset/data3a/'\n",
    "transform = torchvision.transforms.Compose([\n",
    "    torchvision.transforms.RandomHorizontalFlip(),\n",
    "    torchvision.transforms.RandomRotation(30),\n",
    "    torchvision.transforms.Resize(size=(224,224)),\n",
    "    torchvision.transforms.ToTensor(),\n",
    "    torchvision.transforms.Normalize((0.5,0.5,0.5),(0.5,0.5,0.5)),\n",
    "])\n",
    "\n",
    "\n",
    "train_data = torchvision.datasets.ImageFolder(data_dir + 'training/', transform = transform)\n",
    "valid_data  = torchvision.datasets.ImageFolder(data_dir + 'validation/' , transform = transform)\n",
    "\n",
    "Batch_Size = 128\n",
    "\n",
    "train_iterator = torch.utils.data.DataLoader(train_data, shuffle = True, batch_size = Batch_Size)\n",
    "valid_iterator = torch.utils.data.DataLoader(valid_data, shuffle = True, batch_size = Batch_Size)"
   ]
  },
  {
   "cell_type": "code",
   "execution_count": 153,
   "id": "d4c5015e",
   "metadata": {},
   "outputs": [],
   "source": [
    "device = torch.device('cuda')"
   ]
  },
  {
   "cell_type": "code",
   "execution_count": 154,
   "id": "d9645b2d",
   "metadata": {},
   "outputs": [],
   "source": [
    "model = torchvision.models.resnet18(pretrained=True)\n",
    "model = model.to(device)"
   ]
  },
  {
   "cell_type": "code",
   "execution_count": 155,
   "id": "7fbd20db",
   "metadata": {},
   "outputs": [
    {
     "name": "stdout",
     "output_type": "stream",
     "text": [
      "ResNet(\n",
      "  (conv1): Conv2d(3, 64, kernel_size=(7, 7), stride=(2, 2), padding=(3, 3), bias=False)\n",
      "  (bn1): BatchNorm2d(64, eps=1e-05, momentum=0.1, affine=True, track_running_stats=True)\n",
      "  (relu): ReLU(inplace=True)\n",
      "  (maxpool): MaxPool2d(kernel_size=3, stride=2, padding=1, dilation=1, ceil_mode=False)\n",
      "  (layer1): Sequential(\n",
      "    (0): BasicBlock(\n",
      "      (conv1): Conv2d(64, 64, kernel_size=(3, 3), stride=(1, 1), padding=(1, 1), bias=False)\n",
      "      (bn1): BatchNorm2d(64, eps=1e-05, momentum=0.1, affine=True, track_running_stats=True)\n",
      "      (relu): ReLU(inplace=True)\n",
      "      (conv2): Conv2d(64, 64, kernel_size=(3, 3), stride=(1, 1), padding=(1, 1), bias=False)\n",
      "      (bn2): BatchNorm2d(64, eps=1e-05, momentum=0.1, affine=True, track_running_stats=True)\n",
      "    )\n",
      "    (1): BasicBlock(\n",
      "      (conv1): Conv2d(64, 64, kernel_size=(3, 3), stride=(1, 1), padding=(1, 1), bias=False)\n",
      "      (bn1): BatchNorm2d(64, eps=1e-05, momentum=0.1, affine=True, track_running_stats=True)\n",
      "      (relu): ReLU(inplace=True)\n",
      "      (conv2): Conv2d(64, 64, kernel_size=(3, 3), stride=(1, 1), padding=(1, 1), bias=False)\n",
      "      (bn2): BatchNorm2d(64, eps=1e-05, momentum=0.1, affine=True, track_running_stats=True)\n",
      "    )\n",
      "  )\n",
      "  (layer2): Sequential(\n",
      "    (0): BasicBlock(\n",
      "      (conv1): Conv2d(64, 128, kernel_size=(3, 3), stride=(2, 2), padding=(1, 1), bias=False)\n",
      "      (bn1): BatchNorm2d(128, eps=1e-05, momentum=0.1, affine=True, track_running_stats=True)\n",
      "      (relu): ReLU(inplace=True)\n",
      "      (conv2): Conv2d(128, 128, kernel_size=(3, 3), stride=(1, 1), padding=(1, 1), bias=False)\n",
      "      (bn2): BatchNorm2d(128, eps=1e-05, momentum=0.1, affine=True, track_running_stats=True)\n",
      "      (downsample): Sequential(\n",
      "        (0): Conv2d(64, 128, kernel_size=(1, 1), stride=(2, 2), bias=False)\n",
      "        (1): BatchNorm2d(128, eps=1e-05, momentum=0.1, affine=True, track_running_stats=True)\n",
      "      )\n",
      "    )\n",
      "    (1): BasicBlock(\n",
      "      (conv1): Conv2d(128, 128, kernel_size=(3, 3), stride=(1, 1), padding=(1, 1), bias=False)\n",
      "      (bn1): BatchNorm2d(128, eps=1e-05, momentum=0.1, affine=True, track_running_stats=True)\n",
      "      (relu): ReLU(inplace=True)\n",
      "      (conv2): Conv2d(128, 128, kernel_size=(3, 3), stride=(1, 1), padding=(1, 1), bias=False)\n",
      "      (bn2): BatchNorm2d(128, eps=1e-05, momentum=0.1, affine=True, track_running_stats=True)\n",
      "    )\n",
      "  )\n",
      "  (layer3): Sequential(\n",
      "    (0): BasicBlock(\n",
      "      (conv1): Conv2d(128, 256, kernel_size=(3, 3), stride=(2, 2), padding=(1, 1), bias=False)\n",
      "      (bn1): BatchNorm2d(256, eps=1e-05, momentum=0.1, affine=True, track_running_stats=True)\n",
      "      (relu): ReLU(inplace=True)\n",
      "      (conv2): Conv2d(256, 256, kernel_size=(3, 3), stride=(1, 1), padding=(1, 1), bias=False)\n",
      "      (bn2): BatchNorm2d(256, eps=1e-05, momentum=0.1, affine=True, track_running_stats=True)\n",
      "      (downsample): Sequential(\n",
      "        (0): Conv2d(128, 256, kernel_size=(1, 1), stride=(2, 2), bias=False)\n",
      "        (1): BatchNorm2d(256, eps=1e-05, momentum=0.1, affine=True, track_running_stats=True)\n",
      "      )\n",
      "    )\n",
      "    (1): BasicBlock(\n",
      "      (conv1): Conv2d(256, 256, kernel_size=(3, 3), stride=(1, 1), padding=(1, 1), bias=False)\n",
      "      (bn1): BatchNorm2d(256, eps=1e-05, momentum=0.1, affine=True, track_running_stats=True)\n",
      "      (relu): ReLU(inplace=True)\n",
      "      (conv2): Conv2d(256, 256, kernel_size=(3, 3), stride=(1, 1), padding=(1, 1), bias=False)\n",
      "      (bn2): BatchNorm2d(256, eps=1e-05, momentum=0.1, affine=True, track_running_stats=True)\n",
      "    )\n",
      "  )\n",
      "  (layer4): Sequential(\n",
      "    (0): BasicBlock(\n",
      "      (conv1): Conv2d(256, 512, kernel_size=(3, 3), stride=(2, 2), padding=(1, 1), bias=False)\n",
      "      (bn1): BatchNorm2d(512, eps=1e-05, momentum=0.1, affine=True, track_running_stats=True)\n",
      "      (relu): ReLU(inplace=True)\n",
      "      (conv2): Conv2d(512, 512, kernel_size=(3, 3), stride=(1, 1), padding=(1, 1), bias=False)\n",
      "      (bn2): BatchNorm2d(512, eps=1e-05, momentum=0.1, affine=True, track_running_stats=True)\n",
      "      (downsample): Sequential(\n",
      "        (0): Conv2d(256, 512, kernel_size=(1, 1), stride=(2, 2), bias=False)\n",
      "        (1): BatchNorm2d(512, eps=1e-05, momentum=0.1, affine=True, track_running_stats=True)\n",
      "      )\n",
      "    )\n",
      "    (1): BasicBlock(\n",
      "      (conv1): Conv2d(512, 512, kernel_size=(3, 3), stride=(1, 1), padding=(1, 1), bias=False)\n",
      "      (bn1): BatchNorm2d(512, eps=1e-05, momentum=0.1, affine=True, track_running_stats=True)\n",
      "      (relu): ReLU(inplace=True)\n",
      "      (conv2): Conv2d(512, 512, kernel_size=(3, 3), stride=(1, 1), padding=(1, 1), bias=False)\n",
      "      (bn2): BatchNorm2d(512, eps=1e-05, momentum=0.1, affine=True, track_running_stats=True)\n",
      "    )\n",
      "  )\n",
      "  (avgpool): AdaptiveAvgPool2d(output_size=(1, 1))\n",
      "  (fc): Linear(in_features=512, out_features=1000, bias=True)\n",
      ")\n"
     ]
    }
   ],
   "source": [
    "print(model)"
   ]
  },
  {
   "cell_type": "code",
   "execution_count": 156,
   "id": "e62346e9",
   "metadata": {},
   "outputs": [],
   "source": [
    "# Freeze the wights of the pretrained model\n",
    "for par in model.parameters():\n",
    "    par.requires_grad = False"
   ]
  },
  {
   "cell_type": "code",
   "execution_count": 157,
   "id": "f1787ab6",
   "metadata": {},
   "outputs": [],
   "source": [
    "model.fc = torch.nn.Linear(in_features=512, out_features=3).to(device)"
   ]
  },
  {
   "cell_type": "code",
   "execution_count": 158,
   "id": "a8d65664",
   "metadata": {},
   "outputs": [],
   "source": [
    "Loss_Fnc = torch.nn.CrossEntropyLoss()\n",
    "Optimizer = torch.optim.Adam(model.parameters())"
   ]
  },
  {
   "cell_type": "code",
   "execution_count": 159,
   "id": "7c19f568",
   "metadata": {},
   "outputs": [],
   "source": [
    "def accuracy(fx, y):\n",
    "    preds = fx.max(1, keepdim = True)[1]\n",
    "    corrects = preds.eq(y.view_as(preds)).sum()\n",
    "    accurate = corrects.float() / preds.shape[0]\n",
    "    return accurate"
   ]
  },
  {
   "cell_type": "code",
   "execution_count": 160,
   "id": "4693c43a",
   "metadata": {},
   "outputs": [],
   "source": [
    "def train(model, device, iterator, optimizer, loss_fnc):\n",
    "    loss_epoch = 0\n",
    "    acc_epoch  = 0\n",
    "    \n",
    "    model.train()\n",
    "    \n",
    "    for (x,y) in iterator:\n",
    "        x = x.to(device)\n",
    "        y = y.to(device)\n",
    "        \n",
    "        optimizer.zero_grad()\n",
    "        \n",
    "        fx = model(x)\n",
    "        \n",
    "        Loss = loss_fnc(fx,y)\n",
    "        Acc = accuracy(fx,y)\n",
    "        \n",
    "        Loss.backward()\n",
    "        \n",
    "        optimizer.step()\n",
    "        \n",
    "        loss_epoch += Loss.item()\n",
    "        acc_epoch  += Acc.item()\n",
    "    \n",
    "    return loss_epoch / len(iterator) , acc_epoch / len(iterator)"
   ]
  },
  {
   "cell_type": "code",
   "execution_count": 161,
   "id": "83cdb96c",
   "metadata": {},
   "outputs": [],
   "source": [
    "def evaluate(model, device, iterator, loss_fnc):\n",
    "    loss_epoch = 0\n",
    "    acc_epoch  = 0\n",
    "    \n",
    "    model.eval()\n",
    "    \n",
    "    with torch.no_grad():\n",
    "        for (x,y) in iterator:\n",
    "            x = x.to(device)\n",
    "            y = y.to(device)\n",
    "            \n",
    "            fx = model(x)\n",
    "            \n",
    "            Loss = loss_fnc(fx,y)\n",
    "            \n",
    "            Acc = accuracy(fx, y)\n",
    "            \n",
    "            loss_epoch += Loss.item()\n",
    "            acc_epoch  += Acc.item()\n",
    "    return loss_epoch / len(iterator), acc_epoch / len(iterator)"
   ]
  },
  {
   "cell_type": "code",
   "execution_count": 162,
   "id": "b89d3795",
   "metadata": {},
   "outputs": [],
   "source": [
    "Epochs = 100\n",
    "Model_Path = os.path.join(data_dir , 'resnet18_data3a.pt')\n",
    "best_valid_loss = float('inf')"
   ]
  },
  {
   "cell_type": "code",
   "execution_count": 163,
   "id": "e105fe9e",
   "metadata": {},
   "outputs": [],
   "source": [
    "history = [TL,TA,VL,VA]"
   ]
  },
  {
   "cell_type": "code",
   "execution_count": 164,
   "id": "d03f7782",
   "metadata": {},
   "outputs": [
    {
     "name": "stdout",
     "output_type": "stream",
     "text": [
      "| Epoch: 01 | Train Loss: 1.120 | Train Acc: 40.39% | Val. Loss: 1.126 | Val. Acc: 40.11% |\n",
      "| Epoch: 02 | Train Loss: 1.032 | Train Acc: 45.77% | Val. Loss: 1.002 | Val. Acc: 50.58% |\n",
      "| Epoch: 03 | Train Loss: 0.941 | Train Acc: 56.26% | Val. Loss: 0.944 | Val. Acc: 56.80% |\n",
      "| Epoch: 04 | Train Loss: 0.899 | Train Acc: 57.71% | Val. Loss: 0.935 | Val. Acc: 56.40% |\n",
      "| Epoch: 05 | Train Loss: 0.856 | Train Acc: 62.14% | Val. Loss: 0.895 | Val. Acc: 59.95% |\n",
      "| Epoch: 06 | Train Loss: 0.838 | Train Acc: 63.17% | Val. Loss: 0.902 | Val. Acc: 54.90% |\n",
      "| Epoch: 07 | Train Loss: 0.816 | Train Acc: 63.52% | Val. Loss: 0.861 | Val. Acc: 57.21% |\n",
      "| Epoch: 08 | Train Loss: 0.796 | Train Acc: 64.93% | Val. Loss: 0.878 | Val. Acc: 59.93% |\n",
      "| Epoch: 09 | Train Loss: 0.794 | Train Acc: 64.82% | Val. Loss: 0.831 | Val. Acc: 56.81% |\n",
      "| Epoch: 10 | Train Loss: 0.797 | Train Acc: 63.04% | Val. Loss: 0.817 | Val. Acc: 65.35% |\n",
      "| Epoch: 11 | Train Loss: 0.766 | Train Acc: 66.63% | Val. Loss: 0.785 | Val. Acc: 61.10% |\n",
      "| Epoch: 12 | Train Loss: 0.760 | Train Acc: 67.44% | Val. Loss: 0.813 | Val. Acc: 60.68% |\n",
      "| Epoch: 13 | Train Loss: 0.752 | Train Acc: 67.52% | Val. Loss: 0.791 | Val. Acc: 62.66% |\n",
      "| Epoch: 14 | Train Loss: 0.745 | Train Acc: 67.87% | Val. Loss: 0.838 | Val. Acc: 61.47% |\n",
      "| Epoch: 15 | Train Loss: 0.730 | Train Acc: 67.73% | Val. Loss: 0.862 | Val. Acc: 61.06% |\n",
      "| Epoch: 16 | Train Loss: 0.729 | Train Acc: 67.48% | Val. Loss: 0.857 | Val. Acc: 55.28% |\n",
      "| Epoch: 17 | Train Loss: 0.730 | Train Acc: 69.63% | Val. Loss: 0.833 | Val. Acc: 58.00% |\n",
      "| Epoch: 18 | Train Loss: 0.731 | Train Acc: 68.29% | Val. Loss: 0.860 | Val. Acc: 56.83% |\n",
      "| Epoch: 19 | Train Loss: 0.722 | Train Acc: 66.47% | Val. Loss: 0.815 | Val. Acc: 56.04% |\n",
      "| Epoch: 20 | Train Loss: 0.720 | Train Acc: 70.03% | Val. Loss: 0.868 | Val. Acc: 59.13% |\n",
      "| Epoch: 21 | Train Loss: 0.724 | Train Acc: 67.91% | Val. Loss: 0.824 | Val. Acc: 60.35% |\n",
      "| Epoch: 22 | Train Loss: 0.699 | Train Acc: 69.79% | Val. Loss: 0.813 | Val. Acc: 59.14% |\n",
      "| Epoch: 23 | Train Loss: 0.693 | Train Acc: 69.75% | Val. Loss: 0.796 | Val. Acc: 62.64% |\n",
      "| Epoch: 24 | Train Loss: 0.703 | Train Acc: 70.90% | Val. Loss: 0.858 | Val. Acc: 59.16% |\n",
      "| Epoch: 25 | Train Loss: 0.689 | Train Acc: 70.69% | Val. Loss: 0.893 | Val. Acc: 58.78% |\n",
      "| Epoch: 26 | Train Loss: 0.697 | Train Acc: 71.32% | Val. Loss: 0.761 | Val. Acc: 64.96% |\n",
      "| Epoch: 27 | Train Loss: 0.690 | Train Acc: 71.39% | Val. Loss: 0.826 | Val. Acc: 59.14% |\n",
      "| Epoch: 28 | Train Loss: 0.650 | Train Acc: 72.72% | Val. Loss: 0.820 | Val. Acc: 63.42% |\n",
      "| Epoch: 29 | Train Loss: 0.680 | Train Acc: 69.90% | Val. Loss: 0.819 | Val. Acc: 60.69% |\n",
      "| Epoch: 30 | Train Loss: 0.680 | Train Acc: 70.05% | Val. Loss: 0.826 | Val. Acc: 67.31% |\n",
      "| Epoch: 31 | Train Loss: 0.674 | Train Acc: 70.67% | Val. Loss: 0.850 | Val. Acc: 57.99% |\n",
      "| Epoch: 32 | Train Loss: 0.682 | Train Acc: 69.23% | Val. Loss: 0.807 | Val. Acc: 62.64% |\n",
      "| Epoch: 33 | Train Loss: 0.660 | Train Acc: 72.09% | Val. Loss: 0.766 | Val. Acc: 64.58% |\n",
      "| Epoch: 34 | Train Loss: 0.665 | Train Acc: 71.78% | Val. Loss: 0.780 | Val. Acc: 60.32% |\n",
      "| Epoch: 35 | Train Loss: 0.672 | Train Acc: 70.73% | Val. Loss: 0.776 | Val. Acc: 63.03% |\n",
      "| Epoch: 36 | Train Loss: 0.686 | Train Acc: 69.54% | Val. Loss: 0.892 | Val. Acc: 56.05% |\n",
      "| Epoch: 37 | Train Loss: 0.682 | Train Acc: 71.26% | Val. Loss: 0.874 | Val. Acc: 59.13% |\n",
      "| Epoch: 38 | Train Loss: 0.689 | Train Acc: 69.61% | Val. Loss: 0.752 | Val. Acc: 65.35% |\n",
      "| Epoch: 39 | Train Loss: 0.682 | Train Acc: 70.12% | Val. Loss: 0.855 | Val. Acc: 61.09% |\n",
      "| Epoch: 40 | Train Loss: 0.663 | Train Acc: 70.23% | Val. Loss: 0.747 | Val. Acc: 66.92% |\n",
      "| Epoch: 41 | Train Loss: 0.677 | Train Acc: 71.38% | Val. Loss: 0.748 | Val. Acc: 69.24% |\n",
      "| Epoch: 42 | Train Loss: 0.663 | Train Acc: 70.95% | Val. Loss: 0.787 | Val. Acc: 66.14% |\n",
      "| Epoch: 43 | Train Loss: 0.649 | Train Acc: 71.60% | Val. Loss: 0.698 | Val. Acc: 65.37% |\n",
      "| Epoch: 44 | Train Loss: 0.644 | Train Acc: 73.69% | Val. Loss: 0.788 | Val. Acc: 63.05% |\n",
      "| Epoch: 45 | Train Loss: 0.642 | Train Acc: 72.78% | Val. Loss: 0.757 | Val. Acc: 68.08% |\n",
      "| Epoch: 46 | Train Loss: 0.649 | Train Acc: 71.10% | Val. Loss: 0.828 | Val. Acc: 59.18% |\n",
      "| Epoch: 47 | Train Loss: 0.634 | Train Acc: 72.58% | Val. Loss: 0.742 | Val. Acc: 66.13% |\n",
      "| Epoch: 48 | Train Loss: 0.648 | Train Acc: 73.69% | Val. Loss: 0.835 | Val. Acc: 61.48% |\n",
      "| Epoch: 49 | Train Loss: 0.625 | Train Acc: 74.38% | Val. Loss: 0.780 | Val. Acc: 62.64% |\n",
      "| Epoch: 50 | Train Loss: 0.649 | Train Acc: 72.24% | Val. Loss: 0.829 | Val. Acc: 59.54% |\n",
      "| Epoch: 51 | Train Loss: 0.638 | Train Acc: 72.60% | Val. Loss: 0.851 | Val. Acc: 56.06% |\n",
      "| Epoch: 52 | Train Loss: 0.632 | Train Acc: 73.99% | Val. Loss: 0.811 | Val. Acc: 61.48% |\n",
      "| Epoch: 53 | Train Loss: 0.648 | Train Acc: 71.11% | Val. Loss: 0.861 | Val. Acc: 59.15% |\n",
      "| Epoch: 54 | Train Loss: 0.649 | Train Acc: 72.22% | Val. Loss: 0.863 | Val. Acc: 61.10% |\n",
      "| Epoch: 55 | Train Loss: 0.647 | Train Acc: 72.02% | Val. Loss: 0.833 | Val. Acc: 61.48% |\n",
      "| Epoch: 56 | Train Loss: 0.627 | Train Acc: 73.94% | Val. Loss: 0.796 | Val. Acc: 64.58% |\n",
      "| Epoch: 57 | Train Loss: 0.627 | Train Acc: 74.16% | Val. Loss: 0.838 | Val. Acc: 66.53% |\n",
      "| Epoch: 58 | Train Loss: 0.640 | Train Acc: 72.52% | Val. Loss: 0.781 | Val. Acc: 59.92% |\n",
      "| Epoch: 59 | Train Loss: 0.655 | Train Acc: 71.46% | Val. Loss: 0.816 | Val. Acc: 65.74% |\n",
      "| Epoch: 60 | Train Loss: 0.619 | Train Acc: 75.05% | Val. Loss: 0.843 | Val. Acc: 61.88% |\n",
      "| Epoch: 61 | Train Loss: 0.625 | Train Acc: 72.80% | Val. Loss: 0.819 | Val. Acc: 64.18% |\n",
      "| Epoch: 62 | Train Loss: 0.634 | Train Acc: 73.06% | Val. Loss: 0.869 | Val. Acc: 59.94% |\n",
      "| Epoch: 63 | Train Loss: 0.628 | Train Acc: 73.60% | Val. Loss: 0.812 | Val. Acc: 59.92% |\n",
      "| Epoch: 64 | Train Loss: 0.615 | Train Acc: 74.12% | Val. Loss: 0.893 | Val. Acc: 61.88% |\n",
      "| Epoch: 65 | Train Loss: 0.623 | Train Acc: 73.29% | Val. Loss: 0.791 | Val. Acc: 65.75% |\n",
      "| Epoch: 66 | Train Loss: 0.617 | Train Acc: 74.84% | Val. Loss: 0.851 | Val. Acc: 60.72% |\n",
      "| Epoch: 67 | Train Loss: 0.622 | Train Acc: 72.57% | Val. Loss: 0.840 | Val. Acc: 65.74% |\n",
      "| Epoch: 68 | Train Loss: 0.637 | Train Acc: 74.41% | Val. Loss: 0.807 | Val. Acc: 66.90% |\n",
      "| Epoch: 69 | Train Loss: 0.627 | Train Acc: 74.02% | Val. Loss: 0.803 | Val. Acc: 62.25% |\n",
      "| Epoch: 70 | Train Loss: 0.642 | Train Acc: 73.68% | Val. Loss: 0.891 | Val. Acc: 60.72% |\n",
      "| Epoch: 71 | Train Loss: 0.601 | Train Acc: 74.95% | Val. Loss: 0.824 | Val. Acc: 61.08% |\n",
      "| Epoch: 72 | Train Loss: 0.630 | Train Acc: 72.33% | Val. Loss: 0.813 | Val. Acc: 63.79% |\n",
      "| Epoch: 73 | Train Loss: 0.643 | Train Acc: 72.50% | Val. Loss: 0.813 | Val. Acc: 62.65% |\n",
      "| Epoch: 74 | Train Loss: 0.638 | Train Acc: 71.53% | Val. Loss: 0.860 | Val. Acc: 59.93% |\n",
      "| Epoch: 75 | Train Loss: 0.608 | Train Acc: 75.09% | Val. Loss: 0.799 | Val. Acc: 61.86% |\n",
      "| Epoch: 76 | Train Loss: 0.631 | Train Acc: 72.94% | Val. Loss: 0.809 | Val. Acc: 63.04% |\n",
      "| Epoch: 77 | Train Loss: 0.622 | Train Acc: 72.63% | Val. Loss: 0.862 | Val. Acc: 63.01% |\n",
      "| Epoch: 78 | Train Loss: 0.641 | Train Acc: 71.32% | Val. Loss: 0.834 | Val. Acc: 61.87% |\n",
      "| Epoch: 79 | Train Loss: 0.617 | Train Acc: 74.74% | Val. Loss: 0.789 | Val. Acc: 62.26% |\n",
      "| Epoch: 80 | Train Loss: 0.626 | Train Acc: 74.51% | Val. Loss: 0.842 | Val. Acc: 63.04% |\n",
      "| Epoch: 81 | Train Loss: 0.605 | Train Acc: 73.59% | Val. Loss: 0.704 | Val. Acc: 66.90% |\n",
      "| Epoch: 82 | Train Loss: 0.617 | Train Acc: 73.70% | Val. Loss: 0.891 | Val. Acc: 58.78% |\n",
      "| Epoch: 83 | Train Loss: 0.603 | Train Acc: 74.56% | Val. Loss: 0.751 | Val. Acc: 65.72% |\n",
      "| Epoch: 84 | Train Loss: 0.615 | Train Acc: 72.57% | Val. Loss: 0.889 | Val. Acc: 60.34% |\n",
      "| Epoch: 85 | Train Loss: 0.621 | Train Acc: 73.89% | Val. Loss: 0.743 | Val. Acc: 63.82% |\n",
      "| Epoch: 86 | Train Loss: 0.606 | Train Acc: 75.08% | Val. Loss: 0.915 | Val. Acc: 55.68% |\n",
      "| Epoch: 87 | Train Loss: 0.592 | Train Acc: 75.51% | Val. Loss: 0.825 | Val. Acc: 59.15% |\n",
      "| Epoch: 88 | Train Loss: 0.606 | Train Acc: 75.37% | Val. Loss: 0.817 | Val. Acc: 64.20% |\n",
      "| Epoch: 89 | Train Loss: 0.623 | Train Acc: 72.88% | Val. Loss: 0.845 | Val. Acc: 58.77% |\n",
      "| Epoch: 90 | Train Loss: 0.607 | Train Acc: 74.23% | Val. Loss: 0.778 | Val. Acc: 62.25% |\n"
     ]
    },
    {
     "name": "stdout",
     "output_type": "stream",
     "text": [
      "| Epoch: 91 | Train Loss: 0.636 | Train Acc: 74.02% | Val. Loss: 0.793 | Val. Acc: 65.34% |\n",
      "| Epoch: 92 | Train Loss: 0.596 | Train Acc: 74.22% | Val. Loss: 0.707 | Val. Acc: 69.60% |\n",
      "| Epoch: 93 | Train Loss: 0.623 | Train Acc: 74.25% | Val. Loss: 0.777 | Val. Acc: 66.14% |\n",
      "| Epoch: 94 | Train Loss: 0.621 | Train Acc: 74.01% | Val. Loss: 0.815 | Val. Acc: 64.95% |\n",
      "| Epoch: 95 | Train Loss: 0.609 | Train Acc: 75.31% | Val. Loss: 0.849 | Val. Acc: 62.25% |\n",
      "| Epoch: 96 | Train Loss: 0.609 | Train Acc: 73.99% | Val. Loss: 0.882 | Val. Acc: 56.44% |\n",
      "| Epoch: 97 | Train Loss: 0.613 | Train Acc: 73.25% | Val. Loss: 0.843 | Val. Acc: 62.25% |\n",
      "| Epoch: 98 | Train Loss: 0.613 | Train Acc: 74.77% | Val. Loss: 0.783 | Val. Acc: 66.14% |\n",
      "| Epoch: 99 | Train Loss: 0.611 | Train Acc: 74.11% | Val. Loss: 0.836 | Val. Acc: 64.18% |\n",
      "| Epoch: 100 | Train Loss: 0.619 | Train Acc: 75.20% | Val. Loss: 0.803 | Val. Acc: 61.47% |\n"
     ]
    }
   ],
   "source": [
    "TL = []\n",
    "TA = []\n",
    "VL = []\n",
    "VA = []\n",
    "times = []\n",
    "for epoch in range(Epochs):\n",
    "    times.append(epoch)\n",
    "    train_loss, train_acc = train(model, device, train_iterator, Optimizer, Loss_Fnc)\n",
    "    TL.append(train_loss)\n",
    "    TA.append(train_acc)\n",
    "    val_loss, val_acc = evaluate(model, device, valid_iterator, Loss_Fnc)\n",
    "    VL.append(val_loss)\n",
    "    VA.append(val_acc)\n",
    "    if val_loss < best_valid_loss:\n",
    "        best_valid_loss = val_loss\n",
    "        torch.save(model.state_dict(), Model_Path)\n",
    "    print(f'| Epoch: {epoch+1:02} | Train Loss: {train_loss:.3f} | Train Acc: {train_acc*100:05.2f}% | Val. Loss: {val_loss:.3f} | Val. Acc: {val_acc*100:05.2f}% |')    "
   ]
  },
  {
   "cell_type": "code",
   "execution_count": 167,
   "id": "85de8644",
   "metadata": {},
   "outputs": [
    {
     "data": {
      "text/plain": [
       "<All keys matched successfully>"
      ]
     },
     "execution_count": 167,
     "metadata": {},
     "output_type": "execute_result"
    }
   ],
   "source": [
    "model.load_state_dict(torch.load(Model_Path))"
   ]
  },
  {
   "cell_type": "code",
   "execution_count": 168,
   "id": "f9457822",
   "metadata": {},
   "outputs": [
    {
     "data": {
      "image/png": "[encoded data removed]",
      "text/plain": [
       "<Figure size 432x288 with 1 Axes>"
      ]
     },
     "metadata": {
      "needs_background": "light"
     },
     "output_type": "display_data"
    },
    {
     "data": {
      "image/png": "[encoded data removed]",
      "text/plain": [
       "<Figure size 432x288 with 1 Axes>"
      ]
     },
     "metadata": {
      "needs_background": "light"
     },
     "output_type": "display_data"
    }
   ],
   "source": [
    "plt.plot(times,TL)\n",
    "plt.plot(times,VL)\n",
    "plt.grid(True)\n",
    "plt.show()\n",
    "plt.plot(times,TA)\n",
    "plt.plot(times,VA)\n",
    "plt.grid(True)\n",
    "plt.show()"
   ]
  },
  {
   "cell_type": "code",
   "execution_count": 169,
   "id": "e7824458",
   "metadata": {},
   "outputs": [],
   "source": [
    "test_loss, test_acc = evaluate(model, device, valid_iterator, Loss_Fnc)"
   ]
  },
  {
   "cell_type": "code",
   "execution_count": 170,
   "id": "f2956b3d",
   "metadata": {},
   "outputs": [
    {
     "name": "stdout",
     "output_type": "stream",
     "text": [
      "| Test Loss: 0.844 | Test Acc: 61.08% |\n"
     ]
    }
   ],
   "source": [
    "print(f'| Test Loss: {test_loss:.3f} | Test Acc: {test_acc*100:05.2f}% |')"
   ]
  },
  {
   "cell_type": "code",
   "execution_count": 88,
   "id": "2b268654",
   "metadata": {},
   "outputs": [],
   "source": [
    "test_transforms = torchvision.transforms.Compose([torchvision.transforms.Resize(255),\n",
    "                                      torchvision.transforms.CenterCrop(224),\n",
    "                                      torchvision.transforms.ToTensor(),\n",
    "                                      torchvision.transforms.Normalize([0.5, 0.5, 0.5],\n",
    "                                                           [0.5, 0.5, 0.5])])"
   ]
  },
  {
   "cell_type": "code",
   "execution_count": 89,
   "id": "aa990683",
   "metadata": {},
   "outputs": [],
   "source": [
    "from PIL import Image"
   ]
  },
  {
   "cell_type": "code",
   "execution_count": 90,
   "id": "c820f09c",
   "metadata": {},
   "outputs": [],
   "source": [
    "def predict(image):\n",
    "    image = Image.open(image)\n",
    "    image = test_transforms(image).float()\n",
    "    image = image.unsqueeze(0)\n",
    "    image = image.cuda()\n",
    "    return image"
   ]
  },
  {
   "cell_type": "code",
   "execution_count": 103,
   "id": "5880bf9c",
   "metadata": {},
   "outputs": [],
   "source": [
    "img = model(predict('./test/images.jpeg'))"
   ]
  },
  {
   "cell_type": "code",
   "execution_count": 104,
   "id": "4fc9d6da",
   "metadata": {},
   "outputs": [],
   "source": [
    "p = img.max(1, keepdim=True)[1]"
   ]
  },
  {
   "cell_type": "code",
   "execution_count": 105,
   "id": "eed7b21a",
   "metadata": {},
   "outputs": [],
   "source": [
    "t = ['damaged','Non_damaged']"
   ]
  },
  {
   "cell_type": "code",
   "execution_count": 106,
   "id": "087a9a2d",
   "metadata": {},
   "outputs": [
    {
     "data": {
      "text/plain": [
       "'damaged'"
      ]
     },
     "execution_count": 106,
     "metadata": {},
     "output_type": "execute_result"
    }
   ],
   "source": [
    "t[p[0]]"
   ]
  },
  {
   "cell_type": "code",
   "execution_count": 107,
   "id": "efe7cc13",
   "metadata": {},
   "outputs": [
    {
     "name": "stdout",
     "output_type": "stream",
     "text": [
      "tensor([[0]], device='cuda:0')\n"
     ]
    }
   ],
   "source": [
    "print(p)"
   ]
  },
  {
   "cell_type": "code",
   "execution_count": 31,
   "id": "7480f16b",
   "metadata": {},
   "outputs": [],
   "source": [
    "import matplotlib.pyplot as plt"
   ]
  },
  {
   "cell_type": "code",
   "execution_count": null,
   "id": "0ab2ff3e",
   "metadata": {},
   "outputs": [],
   "source": []
  }
 ],
 "metadata": {
  "kernelspec": {
   "display_name": "Python 3 (ipykernel)",
   "language": "python",
   "name": "python3"
  },
  "language_info": {
   "codemirror_mode": {
    "name": "ipython",
    "version": 3
   },
   "file_extension": ".py",
   "mimetype": "text/x-python",
   "name": "python",
   "nbconvert_exporter": "python",
   "pygments_lexer": "ipython3",
   "version": "3.8.10"
  }
 },
 "nbformat": 4,
 "nbformat_minor": 5
}
